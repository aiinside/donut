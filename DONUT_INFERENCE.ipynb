{
 "cells": [
  {
   "cell_type": "code",
   "execution_count": 1,
   "metadata": {},
   "outputs": [],
   "source": [
    "import os\n",
    "from os.path import basename\n",
    "from pathlib import Path\n",
    "\n",
    "import pytorch_lightning as pl\n",
    "import torch\n",
    "from pytorch_lightning.callbacks import LearningRateMonitor, ModelCheckpoint\n",
    "from pytorch_lightning.loggers.tensorboard import TensorBoardLogger\n",
    "from pytorch_lightning.plugins import CheckpointIO\n",
    "from pytorch_lightning.utilities import rank_zero_only\n",
    "from sconf import Config\n",
    "import PIL.Image\n",
    "\n",
    "from donut import DonutModel, DonutConfig\n",
    "# import donut.model_custom\n",
    "# from donut.model_custom import DonutModel, DonutConfig, BARTCustomTokenizer\n",
    "from donut import DonutDataset\n",
    "from lightning_module import DonutDataPLModule, DonutModelPLModule\n",
    "\n",
    "import cv2\n",
    "import numpy as np"
   ]
  },
  {
   "cell_type": "code",
   "execution_count": 2,
   "metadata": {},
   "outputs": [
    {
     "name": "stderr",
     "output_type": "stream",
     "text": [
      "/usr/local/lib/python3.8/dist-packages/torch/functional.py:478: UserWarning: torch.meshgrid: in an upcoming release, it will be required to pass the indexing argument. (Triggered internally at  ../aten/src/ATen/native/TensorShape.cpp:2894.)\n",
      "  return _VF.meshgrid(tensors, **kwargs)  # type: ignore[attr-defined]\n"
     ]
    }
   ],
   "source": [
    "config_path='/data/murayama/k8s/ocr_dxs1/donut/config/test_invoice.yaml'\n",
    "config=Config(config_path)\n",
    "model = DonutModel.from_pretrained(\n",
    "    config.pretrained_model_name_or_path,\n",
    "    input_size=config.input_size,\n",
    "    max_length=config.max_length,\n",
    "    align_long_axis=config.align_long_axis,\n",
    "    enable_char_map=config.char_map,\n",
    "    box_pred=config.get('box_pred',False)\n",
    ")\n",
    "\n",
    "if 'classes' in config:\n",
    "    stokens = []\n",
    "    for cn in config.classes:\n",
    "        stokens += [fr\"<s_{cn}>\", fr\"</s_{cn}>\"]\n",
    "    model.decoder.add_special_tokens(stokens)\n",
    "\n",
    "model = model.cuda().half().eval()\n"
   ]
  },
  {
   "cell_type": "code",
   "execution_count": 5,
   "metadata": {},
   "outputs": [],
   "source": [
    "image_path='/data/murayama/k8s/ocr_dxs1/donut/dataset/kie/invoice_nttd/test_imgs/202307_nttd_001.pdf-1.png'\n",
    "image=PIL.Image.open(image_path)\n",
    "# outs = model.inference(image, prompt='<s_health>', return_attentions=True, return_confs=True, return_tokens=True)\n",
    "try:\n",
    "    outs = model.inference_custom(image, prompt='<s_invoice_nttd>')\n",
    "except Exception as ex:\n",
    "    import traceback\n",
    "    traceback.print_exc()"
   ]
  },
  {
   "cell_type": "code",
   "execution_count": 6,
   "metadata": {},
   "outputs": [
    {
     "data": {
      "text/plain": [
       "{'invoice': {'content': [{'Account_Name': {'content': 'フリコミサキ ダロウ',\n",
       "     'box': [0.0, 0.0, 0.0, 0.0, 0.0],\n",
       "     'score': 1.0}},\n",
       "   {'Account_Number': {'content': '1234123',\n",
       "     'box': [0.0, 0.0, 0.0, 0.0, 0.0],\n",
       "     'score': 1.0}},\n",
       "   {'Account_Type': {'content': '普通',\n",
       "     'box': [0.0, 0.0, 0.0, 0.0, 0.0],\n",
       "     'score': 1.0}},\n",
       "   {'Bank_Name': {'content': '三井住友銀行',\n",
       "     'box': [0.0, 0.0, 0.0, 0.0, 0.0],\n",
       "     'score': 1.0}},\n",
       "   {'Bankbranch_Name': {'content': 'テスト支店',\n",
       "     'box': [0.0, 0.0, 0.0, 0.0, 0.0],\n",
       "     'score': 1.0}},\n",
       "   {'Biller_Address': {'content': '東京都港区 1-1',\n",
       "     'box': [0.0, 0.0, 0.0, 0.0, 0.0],\n",
       "     'score': 1.0}},\n",
       "   {'Biller_Company': {'content': '株式会社請求元',\n",
       "     'box': [0.0, 0.0, 0.0, 0.0, 0.0],\n",
       "     'score': 1.0}},\n",
       "   {'Billing_Company': {'content': '株式会社請求先',\n",
       "     'box': [0.0, 0.0, 0.0, 0.0, 0.0],\n",
       "     'score': 1.0}},\n",
       "   {'Due_Date': {'content': '2023/6/23',\n",
       "     'box': [0.0, 0.0, 0.0, 0.0, 0.0],\n",
       "     'score': 1.0}},\n",
       "   {'Invoice_Number': {'content': '123122',\n",
       "     'box': [0.0, 0.0, 0.0, 0.0, 0.0],\n",
       "     'score': 1.0}},\n",
       "   {'Non_Reduced_Subtotal': {'content': '123,321',\n",
       "     'box': [0.0, 0.0, 0.0, 0.0, 0.0],\n",
       "     'score': 1.0}},\n",
       "   {'Non_Reduced_Tax': {'content': '1,234',\n",
       "     'box': [0.0, 0.0, 0.0, 0.0, 0.0],\n",
       "     'score': 0.99951171875}},\n",
       "   {'Reduced_Subtotal': {'content': '1,231',\n",
       "     'box': [0.0, 0.0, 0.0, 0.0, 0.0],\n",
       "     'score': 0.99951171875}},\n",
       "   {'Reduced_Tax': {'content': '1,241',\n",
       "     'box': [0.0, 0.0, 0.0, 0.0, 0.0],\n",
       "     'score': 0.99853515625}},\n",
       "   {'Register_No': {'content': 'T1231231231235',\n",
       "     'box': [0.0, 0.0, 0.0, 0.0, 0.0],\n",
       "     'score': 1.0}},\n",
       "   {'Title': {'content': '請求書',\n",
       "     'box': [0.0, 0.0, 0.0, 0.0, 0.0],\n",
       "     'score': 1.0}},\n",
       "   {'Total_Amount': {'content': '31412411',\n",
       "     'box': [0.0, 0.0, 0.0, 0.0, 0.0],\n",
       "     'score': 0.9990234375}},\n",
       "   {'Total_Amount': {'content': '31,412,411',\n",
       "     'box': [0.0, 0.0, 0.0, 0.0, 0.0],\n",
       "     'score': 0.98828125}}],\n",
       "  'box': [0.0, 0.0, 0.0, 0.0, 0.0],\n",
       "  'score': 1.0}}"
      ]
     },
     "execution_count": 6,
     "metadata": {},
     "output_type": "execute_result"
    }
   ],
   "source": [
    "outs[\"predictions\"]"
   ]
  },
  {
   "cell_type": "code",
   "execution_count": 10,
   "metadata": {},
   "outputs": [
    {
     "name": "stdout",
     "output_type": "stream",
     "text": [
      "57583\n",
      "57522\n"
     ]
    }
   ],
   "source": [
    "print(model.decoder.model.config.vocab_size)\n",
    "print(model.decoder.tokenizer.vocab_size)"
   ]
  },
  {
   "cell_type": "code",
   "execution_count": null,
   "metadata": {},
   "outputs": [],
   "source": []
  }
 ],
 "metadata": {
  "kernelspec": {
   "display_name": "Python 3",
   "language": "python",
   "name": "python3"
  },
  "language_info": {
   "codemirror_mode": {
    "name": "ipython",
    "version": 3
   },
   "file_extension": ".py",
   "mimetype": "text/x-python",
   "name": "python",
   "nbconvert_exporter": "python",
   "pygments_lexer": "ipython3",
   "version": "3.8.10"
  },
  "orig_nbformat": 4
 },
 "nbformat": 4,
 "nbformat_minor": 2
}
